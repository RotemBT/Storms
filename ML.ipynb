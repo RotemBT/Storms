{
 "cells": [
  {
   "cell_type": "markdown",
   "metadata": {
    "id": "FSioMnioQWEd"
   },
   "source": [
    "# **Import libraries**"
   ]
  },
  {
   "cell_type": "code",
   "execution_count": 2,
   "metadata": {
    "id": "yZNWpPb8qHLA"
   },
   "outputs": [],
   "source": [
    "import pandas as pd\n",
    "from sklearn import metrics\n",
    "from sklearn.linear_model import LinearRegression, LogisticRegression\n",
    "from sklearn.model_selection import train_test_split\n",
    "from sklearn.preprocessing import MinMaxScaler\n",
    "from sklearn.metrics import r2_score, f1_score\n"
   ]
  },
  {
   "cell_type": "markdown",
   "metadata": {
    "id": "Qj_mgd8kiBPs"
   },
   "source": [
    "# **Load CSV file**"
   ]
  },
  {
   "cell_type": "code",
   "execution_count": 3,
   "metadata": {
    "colab": {
     "base_uri": "https://localhost:8080/",
     "height": 423
    },
    "id": "aOiCqEii4eyo",
    "outputId": "537cef7d-93b9-47da-88a6-0da4e2430699"
   },
   "outputs": [
    {
     "data": {
      "text/html": [
       "\n",
       "  <div id=\"df-dc41ad63-43c7-4ca8-8e5d-cbd7a16836ee\">\n",
       "    <div class=\"colab-df-container\">\n",
       "      <div>\n",
       "<style scoped>\n",
       "    .dataframe tbody tr th:only-of-type {\n",
       "        vertical-align: middle;\n",
       "    }\n",
       "\n",
       "    .dataframe tbody tr th {\n",
       "        vertical-align: top;\n",
       "    }\n",
       "\n",
       "    .dataframe thead th {\n",
       "        text-align: right;\n",
       "    }\n",
       "</style>\n",
       "<table border=\"1\" class=\"dataframe\">\n",
       "  <thead>\n",
       "    <tr style=\"text-align: right;\">\n",
       "      <th></th>\n",
       "      <th>storm_name</th>\n",
       "      <th>year</th>\n",
       "      <th>time</th>\n",
       "      <th>wind_power</th>\n",
       "      <th>air_pressure</th>\n",
       "      <th>storm_type</th>\n",
       "      <th>lat</th>\n",
       "      <th>long</th>\n",
       "      <th>Ocean</th>\n",
       "      <th>Month</th>\n",
       "      <th>Day</th>\n",
       "      <th>beaufort_scale</th>\n",
       "      <th>ocean_code</th>\n",
       "    </tr>\n",
       "  </thead>\n",
       "  <tbody>\n",
       "    <tr>\n",
       "      <th>0</th>\n",
       "      <td>ANA</td>\n",
       "      <td>2021</td>\n",
       "      <td>5:00:00 AM</td>\n",
       "      <td>46.0</td>\n",
       "      <td>1006.0</td>\n",
       "      <td>Subtropical Storm</td>\n",
       "      <td>34.20</td>\n",
       "      <td>-62.20</td>\n",
       "      <td>Atlantic Ocean</td>\n",
       "      <td>5</td>\n",
       "      <td>22</td>\n",
       "      <td>8</td>\n",
       "      <td>0</td>\n",
       "    </tr>\n",
       "    <tr>\n",
       "      <th>1</th>\n",
       "      <td>ANA</td>\n",
       "      <td>2021</td>\n",
       "      <td>8:00:00 AM</td>\n",
       "      <td>46.0</td>\n",
       "      <td>1006.0</td>\n",
       "      <td>Subtropical Storm</td>\n",
       "      <td>34.20</td>\n",
       "      <td>-62.50</td>\n",
       "      <td>Atlantic Ocean</td>\n",
       "      <td>5</td>\n",
       "      <td>22</td>\n",
       "      <td>8</td>\n",
       "      <td>0</td>\n",
       "    </tr>\n",
       "    <tr>\n",
       "      <th>2</th>\n",
       "      <td>ANA</td>\n",
       "      <td>2021</td>\n",
       "      <td>11:00:00 AM</td>\n",
       "      <td>46.0</td>\n",
       "      <td>1006.0</td>\n",
       "      <td>Subtropical Storm</td>\n",
       "      <td>34.30</td>\n",
       "      <td>-63.00</td>\n",
       "      <td>Atlantic Ocean</td>\n",
       "      <td>5</td>\n",
       "      <td>22</td>\n",
       "      <td>8</td>\n",
       "      <td>0</td>\n",
       "    </tr>\n",
       "    <tr>\n",
       "      <th>3</th>\n",
       "      <td>ANA</td>\n",
       "      <td>2021</td>\n",
       "      <td>5:00:00 PM</td>\n",
       "      <td>40.0</td>\n",
       "      <td>1007.0</td>\n",
       "      <td>Subtropical Storm</td>\n",
       "      <td>34.50</td>\n",
       "      <td>-62.40</td>\n",
       "      <td>Atlantic Ocean</td>\n",
       "      <td>5</td>\n",
       "      <td>22</td>\n",
       "      <td>8</td>\n",
       "      <td>0</td>\n",
       "    </tr>\n",
       "    <tr>\n",
       "      <th>4</th>\n",
       "      <td>ANA</td>\n",
       "      <td>2021</td>\n",
       "      <td>11:00:00 PM</td>\n",
       "      <td>46.0</td>\n",
       "      <td>1006.0</td>\n",
       "      <td>Subtropical Storm</td>\n",
       "      <td>35.00</td>\n",
       "      <td>-61.40</td>\n",
       "      <td>Atlantic Ocean</td>\n",
       "      <td>5</td>\n",
       "      <td>22</td>\n",
       "      <td>8</td>\n",
       "      <td>0</td>\n",
       "    </tr>\n",
       "    <tr>\n",
       "      <th>...</th>\n",
       "      <td>...</td>\n",
       "      <td>...</td>\n",
       "      <td>...</td>\n",
       "      <td>...</td>\n",
       "      <td>...</td>\n",
       "      <td>...</td>\n",
       "      <td>...</td>\n",
       "      <td>...</td>\n",
       "      <td>...</td>\n",
       "      <td>...</td>\n",
       "      <td>...</td>\n",
       "      <td>...</td>\n",
       "      <td>...</td>\n",
       "    </tr>\n",
       "    <tr>\n",
       "      <th>216591</th>\n",
       "      <td>NORA</td>\n",
       "      <td>1951</td>\n",
       "      <td>12:00:00 PM</td>\n",
       "      <td>58.0</td>\n",
       "      <td>985.0</td>\n",
       "      <td>Unknown</td>\n",
       "      <td>20.00</td>\n",
       "      <td>105.50</td>\n",
       "      <td>Western Pacific</td>\n",
       "      <td>9</td>\n",
       "      <td>3</td>\n",
       "      <td>10</td>\n",
       "      <td>5</td>\n",
       "    </tr>\n",
       "    <tr>\n",
       "      <th>216592</th>\n",
       "      <td>NORA</td>\n",
       "      <td>1951</td>\n",
       "      <td>3:00:00 PM</td>\n",
       "      <td>54.0</td>\n",
       "      <td>987.0</td>\n",
       "      <td>Unknown</td>\n",
       "      <td>19.92</td>\n",
       "      <td>105.40</td>\n",
       "      <td>Western Pacific</td>\n",
       "      <td>9</td>\n",
       "      <td>3</td>\n",
       "      <td>9</td>\n",
       "      <td>5</td>\n",
       "    </tr>\n",
       "    <tr>\n",
       "      <th>216593</th>\n",
       "      <td>NORA</td>\n",
       "      <td>1951</td>\n",
       "      <td>6:00:00 PM</td>\n",
       "      <td>52.0</td>\n",
       "      <td>990.0</td>\n",
       "      <td>Unknown</td>\n",
       "      <td>20.00</td>\n",
       "      <td>105.00</td>\n",
       "      <td>Western Pacific</td>\n",
       "      <td>9</td>\n",
       "      <td>3</td>\n",
       "      <td>9</td>\n",
       "      <td>5</td>\n",
       "    </tr>\n",
       "    <tr>\n",
       "      <th>216594</th>\n",
       "      <td>NORA</td>\n",
       "      <td>1951</td>\n",
       "      <td>9:00:00 PM</td>\n",
       "      <td>48.0</td>\n",
       "      <td>991.0</td>\n",
       "      <td>Unknown</td>\n",
       "      <td>20.40</td>\n",
       "      <td>103.95</td>\n",
       "      <td>Western Pacific</td>\n",
       "      <td>9</td>\n",
       "      <td>3</td>\n",
       "      <td>9</td>\n",
       "      <td>5</td>\n",
       "    </tr>\n",
       "    <tr>\n",
       "      <th>216595</th>\n",
       "      <td>NORA</td>\n",
       "      <td>1951</td>\n",
       "      <td>12:00:00 AM</td>\n",
       "      <td>46.0</td>\n",
       "      <td>992.0</td>\n",
       "      <td>Unknown</td>\n",
       "      <td>21.00</td>\n",
       "      <td>102.50</td>\n",
       "      <td>Western Pacific</td>\n",
       "      <td>9</td>\n",
       "      <td>4</td>\n",
       "      <td>8</td>\n",
       "      <td>5</td>\n",
       "    </tr>\n",
       "  </tbody>\n",
       "</table>\n",
       "<p>216596 rows × 13 columns</p>\n",
       "</div>\n",
       "      <button class=\"colab-df-convert\" onclick=\"convertToInteractive('df-dc41ad63-43c7-4ca8-8e5d-cbd7a16836ee')\"\n",
       "              title=\"Convert this dataframe to an interactive table.\"\n",
       "              style=\"display:none;\">\n",
       "        \n",
       "  <svg xmlns=\"http://www.w3.org/2000/svg\" height=\"24px\"viewBox=\"0 0 24 24\"\n",
       "       width=\"24px\">\n",
       "    <path d=\"M0 0h24v24H0V0z\" fill=\"none\"/>\n",
       "    <path d=\"M18.56 5.44l.94 2.06.94-2.06 2.06-.94-2.06-.94-.94-2.06-.94 2.06-2.06.94zm-11 1L8.5 8.5l.94-2.06 2.06-.94-2.06-.94L8.5 2.5l-.94 2.06-2.06.94zm10 10l.94 2.06.94-2.06 2.06-.94-2.06-.94-.94-2.06-.94 2.06-2.06.94z\"/><path d=\"M17.41 7.96l-1.37-1.37c-.4-.4-.92-.59-1.43-.59-.52 0-1.04.2-1.43.59L10.3 9.45l-7.72 7.72c-.78.78-.78 2.05 0 2.83L4 21.41c.39.39.9.59 1.41.59.51 0 1.02-.2 1.41-.59l7.78-7.78 2.81-2.81c.8-.78.8-2.07 0-2.86zM5.41 20L4 18.59l7.72-7.72 1.47 1.35L5.41 20z\"/>\n",
       "  </svg>\n",
       "      </button>\n",
       "      \n",
       "  <style>\n",
       "    .colab-df-container {\n",
       "      display:flex;\n",
       "      flex-wrap:wrap;\n",
       "      gap: 12px;\n",
       "    }\n",
       "\n",
       "    .colab-df-convert {\n",
       "      background-color: #E8F0FE;\n",
       "      border: none;\n",
       "      border-radius: 50%;\n",
       "      cursor: pointer;\n",
       "      display: none;\n",
       "      fill: #1967D2;\n",
       "      height: 32px;\n",
       "      padding: 0 0 0 0;\n",
       "      width: 32px;\n",
       "    }\n",
       "\n",
       "    .colab-df-convert:hover {\n",
       "      background-color: #E2EBFA;\n",
       "      box-shadow: 0px 1px 2px rgba(60, 64, 67, 0.3), 0px 1px 3px 1px rgba(60, 64, 67, 0.15);\n",
       "      fill: #174EA6;\n",
       "    }\n",
       "\n",
       "    [theme=dark] .colab-df-convert {\n",
       "      background-color: #3B4455;\n",
       "      fill: #D2E3FC;\n",
       "    }\n",
       "\n",
       "    [theme=dark] .colab-df-convert:hover {\n",
       "      background-color: #434B5C;\n",
       "      box-shadow: 0px 1px 3px 1px rgba(0, 0, 0, 0.15);\n",
       "      filter: drop-shadow(0px 1px 2px rgba(0, 0, 0, 0.3));\n",
       "      fill: #FFFFFF;\n",
       "    }\n",
       "  </style>\n",
       "\n",
       "      <script>\n",
       "        const buttonEl =\n",
       "          document.querySelector('#df-dc41ad63-43c7-4ca8-8e5d-cbd7a16836ee button.colab-df-convert');\n",
       "        buttonEl.style.display =\n",
       "          google.colab.kernel.accessAllowed ? 'block' : 'none';\n",
       "\n",
       "        async function convertToInteractive(key) {\n",
       "          const element = document.querySelector('#df-dc41ad63-43c7-4ca8-8e5d-cbd7a16836ee');\n",
       "          const dataTable =\n",
       "            await google.colab.kernel.invokeFunction('convertToInteractive',\n",
       "                                                     [key], {});\n",
       "          if (!dataTable) return;\n",
       "\n",
       "          const docLinkHtml = 'Like what you see? Visit the ' +\n",
       "            '<a target=\"_blank\" href=https://colab.research.google.com/notebooks/data_table.ipynb>data table notebook</a>'\n",
       "            + ' to learn more about interactive tables.';\n",
       "          element.innerHTML = '';\n",
       "          dataTable['output_type'] = 'display_data';\n",
       "          await google.colab.output.renderOutput(dataTable, element);\n",
       "          const docLink = document.createElement('div');\n",
       "          docLink.innerHTML = docLinkHtml;\n",
       "          element.appendChild(docLink);\n",
       "        }\n",
       "      </script>\n",
       "    </div>\n",
       "  </div>\n",
       "  "
      ],
      "text/plain": [
       "       storm_name  year         time  ...  Day  beaufort_scale ocean_code\n",
       "0             ANA  2021   5:00:00 AM  ...   22               8          0\n",
       "1             ANA  2021   8:00:00 AM  ...   22               8          0\n",
       "2             ANA  2021  11:00:00 AM  ...   22               8          0\n",
       "3             ANA  2021   5:00:00 PM  ...   22               8          0\n",
       "4             ANA  2021  11:00:00 PM  ...   22               8          0\n",
       "...           ...   ...          ...  ...  ...             ...        ...\n",
       "216591       NORA  1951  12:00:00 PM  ...    3              10          5\n",
       "216592       NORA  1951   3:00:00 PM  ...    3               9          5\n",
       "216593       NORA  1951   6:00:00 PM  ...    3               9          5\n",
       "216594       NORA  1951   9:00:00 PM  ...    3               9          5\n",
       "216595       NORA  1951  12:00:00 AM  ...    4               8          5\n",
       "\n",
       "[216596 rows x 13 columns]"
      ]
     },
     "execution_count": 3,
     "metadata": {},
     "output_type": "execute_result"
    }
   ],
   "source": [
    "#load csv \n",
    "df = pd.read_csv('cleaningDF.csv')\n",
    "df"
   ]
  },
  {
   "cell_type": "markdown",
   "metadata": {
    "id": "906-H4aliIcc"
   },
   "source": [
    "# **Methods of Linear and Logistic Regression**"
   ]
  },
  {
   "cell_type": "markdown",
   "metadata": {
    "id": "iwL38P8qiWDI"
   },
   "source": [
    "- Validation methods."
   ]
  },
  {
   "cell_type": "code",
   "execution_count": 4,
   "metadata": {
    "id": "F1gEYAE1HkPJ"
   },
   "outputs": [],
   "source": [
    "def coordinateValidation(lat, long):\n",
    "    return (-90 <= lat <= 90) and (-180 <= long <= 180)\n",
    "\n",
    "def airPressureValidation(airPressure):\n",
    "    return airPressure > 0\n",
    "\n",
    "def dateValidation(year, month, day):\n",
    "    if year < 0:\n",
    "        return False\n",
    "    day_count_for_month = [31, 28, 31, 30, 31, 30, 31, 31, 30, 31, 30, 31]\n",
    "    if year % 4 == 0 and (year % 100 != 0 or year % 400 == 0):\n",
    "        day_count_for_month[1] = 29\n",
    "    return (1 <= month <= 12 and 1 <= day <= day_count_for_month[month])\n"
   ]
  },
  {
   "cell_type": "markdown",
   "metadata": {
    "id": "ttjrL8AnieHd"
   },
   "source": [
    "- get latitude, longitude, air pressure and date from user to predict."
   ]
  },
  {
   "cell_type": "code",
   "execution_count": 5,
   "metadata": {
    "id": "dKHJVOgRWL1N"
   },
   "outputs": [],
   "source": [
    "def getParams():\n",
    "    lat = float(input(\"Please enter Latitude value: \"))\n",
    "    long = float(input(\"Please enter Longitude value: \"))\n",
    "    while not coordinateValidation(lat, long):\n",
    "        print('Your coordinate are out of range please enter again. ')\n",
    "        lat = float(input(\"Please enter Latitude value: \"))\n",
    "        long = float(input(\"Please enter Longitude value: \"))\n",
    "    pressure = float(input(\"Please enter air pressure value: \"))\n",
    "    while not airPressureValidation(pressure):\n",
    "        print('Your air pressure are out of range please enter again. ')\n",
    "        pressure = float(input(\"Please enter air pressure value: \"))\n",
    "    year, month, day = map(int, input('Enter a date in date format: year month day: ').split(' '))\n",
    "    while not dateValidation(year, month, day):\n",
    "        print('Your date are out of range please enter again.')\n",
    "        year, month, day = map(int, input('Enter a date in date format: year month day. ').split(' '))\n",
    "    return lat, long, pressure, year, month, day\n"
   ]
  },
  {
   "cell_type": "markdown",
   "metadata": {
    "id": "t7WyUJDFPSgE"
   },
   "source": [
    "# **Linear Regression Model**"
   ]
  },
  {
   "cell_type": "code",
   "execution_count": 6,
   "metadata": {
    "id": "OGbcNE-TV5CT"
   },
   "outputs": [],
   "source": [
    "def linearRegressionModel(df):\n",
    "    X = df.loc[:, ~df.columns.isin(\n",
    "        ['storm_name', 'time', 'wind_power', 'storm_type', 'Ocean', 'ocean_code', 'beaufort_scale'])]\n",
    "    y = df['wind_power']\n",
    "    X_train, X_test, y_train, y_test = train_test_split(X, y, test_size=0.3, random_state=45)\n",
    "    model = LinearRegression().fit(X_train, y_train)\n",
    "    y_pred = model.predict(X_test)\n",
    "    lat, long, pressure, year, month, day = getParams()\n",
    "    print(f\"You've entered Coordinate ({lat}, {long}), Air Pressure {pressure} and Date {year}/{month}/{day}: \")\n",
    "    print(f'\\nPrediction of wind power is: {float(model.predict([[year, pressure, lat, long, month, day]])[0]):.3f}'\n",
    "          f' mph')\n",
    "    print(f'The R^2 score of our model is: {r2_score(y_test, y_pred)}\\n')\n",
    "\n",
    "\n"
   ]
  },
  {
   "cell_type": "markdown",
   "metadata": {
    "id": "u3zeNk5VvL14"
   },
   "source": [
    "## **Logistic Regression Model**"
   ]
  },
  {
   "cell_type": "markdown",
   "metadata": {
    "id": "VFz1KuJukTSf"
   },
   "source": [
    "- get wind power value from linear regression model."
   ]
  },
  {
   "cell_type": "code",
   "execution_count": 7,
   "metadata": {
    "id": "sAJmTl2SWNiW"
   },
   "outputs": [],
   "source": [
    "def getWindFromLinearModel(df, lat, long, pressure, year, month, day):\n",
    "    X = df.loc[:, ~df.columns.isin(\n",
    "        ['storm_name', 'time', 'wind_power', 'storm_type', 'Ocean', 'ocean_code', 'beaufort'])]\n",
    "    y = df['wind_power']\n",
    "    X_train, X_test, y_train, y_test = train_test_split(X, y, test_size=0.3, random_state=45)\n",
    "    model = LinearRegression().fit(X_train, y_train)\n",
    "    lat = lat\n",
    "    long = long\n",
    "    pressure = pressure\n",
    "    year, month, day = year, month, day\n",
    "    return round(float(model.predict([[year, pressure, lat, long, month, day]])[0]), 3)"
   ]
  },
  {
   "cell_type": "markdown",
   "metadata": {
    "id": "mY1Ae1g5i0CB"
   },
   "source": [
    " rearrangedBeaufortColumn - arranged the dataframe to four sub-categories: \n",
    " - scale between 0-4 is Breeze Wind get value 0\n",
    " - scale between 5-8 is Tropical Depression get value 1\n",
    " - scale between 9-11 is Tropical Storm get value 2\n",
    " - scale greater than 12 is Deadly Storm get value 3"
   ]
  },
  {
   "cell_type": "code",
   "execution_count": 8,
   "metadata": {
    "id": "iEAkF22x5KmW"
   },
   "outputs": [],
   "source": [
    "def rearrangeBeaufortColumn(df):\n",
    "    df = df.copy()\n",
    "    dfBeaufortScaleLessThan5 = df[df['beaufort_scale'] < 5].reset_index(drop=True)\n",
    "    dfBeaufortScaleBetween5To8 = df[(df['beaufort_scale'] >= 5) & (df['beaufort_scale'] <= 8)].reset_index(drop=True)\n",
    "    dfBeaufortScaleBetween9To11 = df[(df['beaufort_scale'] >= 9) & (df['beaufort_scale'] <= 11)].reset_index(drop=True)\n",
    "    dfBeaufortScaleHigherThan12 = df[(df['beaufort_scale'] >= 12)].reset_index(drop=True)\n",
    "    dfBeaufortScaleLessThan5['beaufort'] = 0\n",
    "    dfBeaufortScaleBetween5To8['beaufort'] = 1\n",
    "    dfBeaufortScaleBetween9To11['beaufort'] = 2\n",
    "    dfBeaufortScaleHigherThan12['beaufort'] = 3\n",
    "\n",
    "    return pd.concat(\n",
    "        [dfBeaufortScaleHigherThan12, dfBeaufortScaleBetween9To11, dfBeaufortScaleBetween5To8,\n",
    "         dfBeaufortScaleLessThan5], ignore_index=True).drop(['beaufort_scale'], axis=1)\n"
   ]
  },
  {
   "cell_type": "code",
   "execution_count": 9,
   "metadata": {
    "id": "H5IbcH-YIPve"
   },
   "outputs": [],
   "source": [
    "def logisticRegressionModel(df):\n",
    "    # Logistic Regression by beaufort split (windy ,low, med, high)\n",
    "    df = rearrangeBeaufortColumn(df)\n",
    "    \n",
    "    X = df.loc[:, ~df.columns.isin(\n",
    "        ['storm_name', 'time', 'storm_type', 'Ocean', 'ocean_code', 'beaufort'])]\n",
    "    y = df['beaufort']\n",
    "    X_train, X_test, y_train, y_test = train_test_split(X, y, test_size=0.3, random_state=40)\n",
    "    # scaled our X\n",
    "    scaler = MinMaxScaler(feature_range=(0, 1))\n",
    "    X_train_scaled = scaler.fit_transform(X_train)\n",
    "    # build the model\n",
    "    model = LogisticRegression().fit(X_train_scaled, y_train)\n",
    "    y_pred = model.predict(scaler.transform(X_test))\n",
    "    lat, long, pressure, year, month, day = getParams()\n",
    "    wind = getWindFromLinearModel(df, lat, long, pressure, year, month, day)\n",
    "    cords = scaler.transform([[year, wind, pressure, lat, long, month, day]])\n",
    "    predicted_values = model.predict_proba(cords)[0]\n",
    "    windyProb, lowProb, mediumProb, highProb = predicted_values[0] * 100, predicted_values[1] * 100, predicted_values[\n",
    "        2] * 100, predicted_values[3] * 100\n",
    "    print(f\"You've entered Coordinate ({lat}, {long}), Air Pressure {pressure}, Wind Power {wind} (from linear model)\"\n",
    "          f\" and Date {year}/{month}/{day}: \")\n",
    "    print(f'A windy storm probability: {windyProb:.2f}%'\n",
    "          f'\\nTropical Depression probability: {lowProb:.2f}%\\n'\n",
    "          f'Tropical Storm probability: {mediumProb:.2f}%\\nA deadly storm probability: {highProb:.2f}%\\n')\n",
    "\n",
    "    # Evaluate our model\n",
    "    print(f'The f1 score (average=micro) of our model is: {f1_score(y_test, y_pred, average=\"micro\")}')\n",
    "    print(f'The Accuracy rate of our model is: {metrics.accuracy_score(y_test, y_pred)}')\n",
    "    print(f'The Precision rate (average=micro) of our model is: '\n",
    "          f'{metrics.precision_score(y_test, y_pred, average=\"micro\")}')\n",
    "    print(f'The Recall rate (average=micro)of our model is: {metrics.recall_score(y_test, y_pred, average=\"micro\")}')\n",
    "    print('Confusion Matrix of beaufort rate 0-3:')\n",
    "    "
   ]
  },
  {
   "cell_type": "markdown",
   "metadata": {
    "id": "_3ICyQUwIqaI"
   },
   "source": [
    "# **Run the program**"
   ]
  },
  {
   "cell_type": "code",
   "execution_count": 10,
   "metadata": {
    "id": "-NeYNLQhImfA"
   },
   "outputs": [],
   "source": [
    "def printMenu():\n",
    "    print('Please enter [0] to Exit\\n'\n",
    "          'please enter [1] to Linear model\\n'\n",
    "          'Please enter [2] to Logistic model')\n",
    "\n",
    "\n",
    "def chooseModel():\n",
    "    printMenu()\n",
    "    userInput = int(input())\n",
    "    while userInput != 0:\n",
    "        if userInput == 0:\n",
    "            break\n",
    "        elif userInput == 1:\n",
    "            linearRegressionModel(df)\n",
    "        elif userInput == 2:\n",
    "            logisticRegressionModel(df)\n",
    "        printMenu()\n",
    "        userInput = int(input('Please enter number in the list.'))\n",
    "\n"
   ]
  },
  {
   "cell_type": "code",
   "execution_count": 12,
   "metadata": {
    "colab": {
     "base_uri": "https://localhost:8080/"
    },
    "id": "p96KQ7NO5e4N",
    "outputId": "8dd5544e-3ec7-4c9e-82fe-eb52d374c82b"
   },
   "outputs": [
    {
     "name": "stdout",
     "output_type": "stream",
     "text": [
      "Please enter [0] to Exit\n",
      "please enter [1] to Linear model\n",
      "Please enter [2] to Logistic model\n",
      "1\n",
      "Please enter Latitude value: 63\n",
      "Please enter Longitude value: 103\n",
      "Please enter air pressure value: 1003\n",
      "Enter a date in date format: year month day: 2022 02 23\n"
     ]
    },
    {
     "name": "stderr",
     "output_type": "stream",
     "text": [
      "/usr/local/lib/python3.7/dist-packages/sklearn/base.py:451: UserWarning: X does not have valid feature names, but LinearRegression was fitted with feature names\n",
      "  \"X does not have valid feature names, but\"\n"
     ]
    },
    {
     "name": "stdout",
     "output_type": "stream",
     "text": [
      "You've entered Coordinate (63.0, 103.0), Air Pressure 1003.0 and Date 2022/2/23: \n",
      "\n",
      "Prediction of wind power is: 39.184 mph\n",
      "The R^2 score of our model is: 0.8738339725955943\n",
      "\n",
      "Please enter [0] to Exit\n",
      "please enter [1] to Linear model\n",
      "Please enter [2] to Logistic model\n",
      "Please enter number in the list.2\n"
     ]
    },
    {
     "name": "stderr",
     "output_type": "stream",
     "text": [
      "/usr/local/lib/python3.7/dist-packages/sklearn/linear_model/_logistic.py:818: ConvergenceWarning: lbfgs failed to converge (status=1):\n",
      "STOP: TOTAL NO. of ITERATIONS REACHED LIMIT.\n",
      "\n",
      "Increase the number of iterations (max_iter) or scale the data as shown in:\n",
      "    https://scikit-learn.org/stable/modules/preprocessing.html\n",
      "Please also refer to the documentation for alternative solver options:\n",
      "    https://scikit-learn.org/stable/modules/linear_model.html#logistic-regression\n",
      "  extra_warning_msg=_LOGISTIC_SOLVER_CONVERGENCE_MSG,\n"
     ]
    },
    {
     "name": "stdout",
     "output_type": "stream",
     "text": [
      "Please enter Latitude value: 63\n",
      "Please enter Longitude value: 103\n",
      "Please enter air pressure value: 1003\n",
      "Enter a date in date format: year month day: 2022 02 23\n"
     ]
    },
    {
     "name": "stderr",
     "output_type": "stream",
     "text": [
      "/usr/local/lib/python3.7/dist-packages/sklearn/base.py:451: UserWarning: X does not have valid feature names, but LinearRegression was fitted with feature names\n",
      "  \"X does not have valid feature names, but\"\n",
      "/usr/local/lib/python3.7/dist-packages/sklearn/base.py:451: UserWarning: X does not have valid feature names, but MinMaxScaler was fitted with feature names\n",
      "  \"X does not have valid feature names, but\"\n"
     ]
    },
    {
     "name": "stdout",
     "output_type": "stream",
     "text": [
      "You've entered Coordinate (63.0, 103.0), Air Pressure 1003.0, Wind Power 39.268 (from linear model) and Date 2022/2/23: \n",
      "A windy storm probability: 1.63%\n",
      "Tropical Depression probability: 97.11%\n",
      "Tropical Storm probability: 1.26%\n",
      "A deadly storm probability: 0.00%\n",
      "\n",
      "The f1 score (average=micro) of our model is: 0.980870742855384\n",
      "The Accuracy rate of our model is: 0.980870742855384\n",
      "The Precision rate (average=micro) of our model is: 0.980870742855384\n",
      "The Recall rate (average=micro)of our model is: 0.980870742855384\n",
      "Confusion Matrix of beaufort rate 0-3:\n",
      "Please enter [0] to Exit\n",
      "please enter [1] to Linear model\n",
      "Please enter [2] to Logistic model\n",
      "Please enter number in the list.0\n"
     ]
    }
   ],
   "source": [
    "1chooseModel()"
   ]
  }
 ],
 "metadata": {
  "colab": {
   "collapsed_sections": [],
   "name": "ML.ipynb",
   "provenance": []
  },
  "kernelspec": {
   "display_name": "Python 3",
   "language": "python",
   "name": "python3"
  },
  "language_info": {
   "codemirror_mode": {
    "name": "ipython",
    "version": 3
   },
   "file_extension": ".py",
   "mimetype": "text/x-python",
   "name": "python",
   "nbconvert_exporter": "python",
   "pygments_lexer": "ipython3",
   "version": "3.8.8"
  }
 },
 "nbformat": 4,
 "nbformat_minor": 1
}
